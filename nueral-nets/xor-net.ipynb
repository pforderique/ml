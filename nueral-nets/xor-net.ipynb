{
 "cells": [
  {
   "cell_type": "markdown",
   "id": "fc70a1be",
   "metadata": {},
   "source": [
    "# XOR-Net\n",
    "\n",
    "A simple neural network that solves XOR operation"
   ]
  },
  {
   "cell_type": "markdown",
   "id": "5f85963e",
   "metadata": {},
   "source": [
    "### 📐 Data Setup"
   ]
  },
  {
   "cell_type": "code",
   "execution_count": null,
   "id": "3b0c3d5c",
   "metadata": {},
   "outputs": [],
   "source": [
    "import torch\n",
    "import torch.nn as nn\n",
    "import torch.optim as optim\n",
    "\n",
    "torch.manual_seed(hash(\"piero\"))\n",
    "\n",
    "# Define dataset\n",
    "left  = torch.tensor([0, 0, 1, 0, 1, 1]).unsqueeze(1).repeat(2, 1)  # (8, 1)\n",
    "right = torch.tensor([0, 1, 0, 1, 0, 1]).unsqueeze(1).repeat(2, 1)  # (8, 1)\n",
    "X_train = torch.cat((left, right), dim=1).float()  # (4, 2)\n",
    "y_train = (left ^ right).float()"
   ]
  },
  {
   "cell_type": "markdown",
   "id": "91b9a87d",
   "metadata": {},
   "source": [
    "### 🧠 Model"
   ]
  },
  {
   "cell_type": "code",
   "execution_count": null,
   "id": "c88bf829",
   "metadata": {},
   "outputs": [],
   "source": [
    "from typing import Any\n",
    "\n",
    "\n",
    "class SimpleNet(nn.Module):\n",
    "    def __init__(self):\n",
    "        super(SimpleNet, self).__init__()\n",
    "        self.fc1 = nn.Linear(2, 2)  # 2 input features, 2 hidden units\n",
    "        self.fc2 = nn.Linear(2, 1)  # 2 hidden units, 1 output\n",
    "\n",
    "    def forward(self, x) -> torch.Tensor:\n",
    "        x = torch.relu(self.fc1(x))\n",
    "        x = torch.sigmoid(self.fc2(x))\n",
    "        return x\n",
    "\n",
    "    # This is only done to force intelliSense to recognize the return type as torch.Tensor\n",
    "    def __call__(self, *args: Any, **kwds: Any) -> torch.Tensor:\n",
    "        x = super().__call__(*args, **kwds)\n",
    "        if isinstance(x, torch.Tensor):\n",
    "            return x\n",
    "        raise TypeError(f\"Expected torch.Tensor, got {type(x)}\")"
   ]
  },
  {
   "cell_type": "markdown",
   "id": "606da2b9",
   "metadata": {},
   "source": [
    "### ⚙️ Training"
   ]
  },
  {
   "cell_type": "code",
   "execution_count": null,
   "id": "9d492dee",
   "metadata": {},
   "outputs": [],
   "source": [
    "model = SimpleNet()\n",
    "loss_fn = nn.BCELoss()\n",
    "optimizer = optim.Adam(model.parameters(), lr=0.01)\n",
    "\n",
    "for epoch in range(1000):\n",
    "    y_pred = model(X_train)\n",
    "    loss = loss_fn(y_pred, y_train)\n",
    "    optimizer.zero_grad()\n",
    "    loss.backward()\n",
    "    optimizer.step()\n",
    "\n",
    "print(\"Final predictions:\", y_pred.detach().round().squeeze())"
   ]
  },
  {
   "cell_type": "markdown",
   "id": "fd4f7ae5",
   "metadata": {},
   "source": [
    "### 🧪 Create Test Set"
   ]
  },
  {
   "cell_type": "code",
   "execution_count": null,
   "id": "10bf5cc2",
   "metadata": {},
   "outputs": [],
   "source": [
    "test_size = 10\n",
    "lefts = torch.randint(0, 2, (test_size, 1))\n",
    "rights = torch.randint(0, 2, (test_size, 1))\n",
    "X_test = torch.cat((lefts, rights), dim=1).float()  # (test_size, 2)\n",
    "y_test = (lefts ^ rights).float()"
   ]
  },
  {
   "cell_type": "markdown",
   "id": "dddc1101",
   "metadata": {},
   "source": [
    "### ✅ Test Accuracy"
   ]
  },
  {
   "cell_type": "code",
   "execution_count": null,
   "id": "f0f27923",
   "metadata": {},
   "outputs": [],
   "source": [
    "with torch.no_grad():  # Disable gradient tracking for inference\n",
    "    y_pred = model(X_test)\n",
    "    print(\"Test predictions (raw):\", y_pred.squeeze())\n",
    "    y_pred_labels = (y_pred >= 0.5).float()  # Threshold at 0.5\n",
    "    print(\"Test predictions:\", y_pred_labels.squeeze())\n",
    "    correct = (y_pred_labels == y_test).sum().item()\n",
    "    accuracy = correct / len(y_test)\n",
    "\n",
    "print(f\"Accuracy: {accuracy*100:.2f}%\")\n"
   ]
  },
  {
   "cell_type": "code",
   "execution_count": null,
   "id": "2d7a29a6",
   "metadata": {},
   "outputs": [],
   "source": [
    "import matplotlib.pyplot as plt\n",
    "import seaborn as sns\n",
    "from sklearn.metrics import confusion_matrix\n",
    "\n",
    "# Convert to CPU lists\n",
    "y_true = y_test.cpu().tolist()\n",
    "y_pred = y_pred_labels.cpu().tolist()\n",
    "\n",
    "# Compute matrix\n",
    "cm = confusion_matrix(y_true, y_pred)\n",
    "\n",
    "# Plot\n",
    "plt.figure(figsize=(4, 3))\n",
    "sns.heatmap(cm, annot=True, fmt=\"d\", cmap=\"Blues\", xticklabels=[\"0s\", \"1s\"], yticklabels=[\"0s\", \"1s\"])\n",
    "plt.xlabel(\"Predicted\")\n",
    "plt.ylabel(\"Actual\")\n",
    "plt.title(\"Confusion Matrix\")\n",
    "plt.tight_layout()\n",
    "plt.show()"
   ]
  }
 ],
 "metadata": {
  "kernelspec": {
   "display_name": "ml",
   "language": "python",
   "name": "python3"
  },
  "language_info": {
   "codemirror_mode": {
    "name": "ipython",
    "version": 3
   },
   "file_extension": ".py",
   "mimetype": "text/x-python",
   "name": "python",
   "nbconvert_exporter": "python",
   "pygments_lexer": "ipython3",
   "version": "3.13.4"
  }
 },
 "nbformat": 4,
 "nbformat_minor": 5
}
