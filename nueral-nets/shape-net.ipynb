{
 "cells": [
  {
   "cell_type": "markdown",
   "id": "fc70a1be",
   "metadata": {},
   "source": [
    "# Shape-Net\n",
    "\n",
    "A simple neural network that can distinguish shapes."
   ]
  },
  {
   "cell_type": "markdown",
   "id": "8f3e53ac",
   "metadata": {},
   "source": [
    "## Binary Shape Net\n",
    "First, we create a simple nueral net that can distinguish L-shapes from non L-shapes in 3x3 grayscale images."
   ]
  },
  {
   "cell_type": "markdown",
   "id": "5f85963e",
   "metadata": {},
   "source": [
    "### 📐 Data Setup"
   ]
  },
  {
   "cell_type": "code",
   "execution_count": null,
   "id": "3b0c3d5c",
   "metadata": {},
   "outputs": [],
   "source": [
    "import torch\n",
    "import torch.nn as nn\n",
    "import torch.optim as optim\n",
    "\n",
    "# Define dataset\n",
    "L_shapes = [\n",
    "    torch.tensor([[1,0,0],\n",
    "                  [1,0,0],\n",
    "                  [1,1,0]]),  # L\n",
    "    torch.tensor([[1,1,1],\n",
    "                  [1,0,0],\n",
    "                  [0,0,0]]),  # rotated L\n",
    "    torch.tensor([[0,0,1],\n",
    "                  [0,0,1],\n",
    "                  [0,1,1]]),  # another rotation\n",
    "    torch.tensor([[0,0,0],\n",
    "                  [0,0,1],\n",
    "                  [1,1,1]]),  # another rotation\n",
    "]\n",
    "\n",
    "non_L_shapes = [\n",
    "    torch.tensor([[1,1,0],\n",
    "                  [1,1,0],\n",
    "                  [0,0,0]]),  # square\n",
    "    torch.tensor([[1,0,0],\n",
    "                  [1,1,0],\n",
    "                  [0,0,0]]),  # corner\n",
    "    torch.tensor([[1,1,1],\n",
    "                  [0,1,0],\n",
    "                  [0,0,0]]),  # T-shape\n",
    "    torch.tensor([[0,1,0],\n",
    "                  [0,1,0],\n",
    "                  [0,1,0]]),  # column\n",
    "    torch.tensor([[1,1,1],\n",
    "                  [0,0,0],\n",
    "                  [0,0,0]]),  # sideways column\n",
    "    torch.tensor([[0,0,1],\n",
    "                  [0,0,1],\n",
    "                  [0,0,1]]),  # column\n",
    "    torch.tensor([[1,0,0],\n",
    "                  [1,1,0],\n",
    "                  [1,0,0]]),  # T\n",
    "    torch.tensor([[1,0,0],\n",
    "                  [0,0,0],\n",
    "                  [1,1,0]]),  # Near-L\n",
    "]\n",
    "\n",
    "X = torch.stack([x.float() for x in L_shapes + non_L_shapes]).unsqueeze(1)  # Add channel dimension (1 for grayscale) -> (B, 1, H, W)\n",
    "y = torch.tensor([1]*len(L_shapes) + [0]*len(non_L_shapes)).float().unsqueeze(1)"
   ]
  },
  {
   "cell_type": "markdown",
   "id": "91b9a87d",
   "metadata": {},
   "source": [
    "### 🧠 Model"
   ]
  },
  {
   "cell_type": "code",
   "execution_count": null,
   "id": "c88bf829",
   "metadata": {},
   "outputs": [],
   "source": [
    "from typing import Any\n",
    "\n",
    "\n",
    "class ShapeNet(nn.Module):\n",
    "    def __init__(self):\n",
    "        super(ShapeNet, self).__init__()\n",
    "        self.conv = nn.Conv2d(in_channels=1, out_channels=4, kernel_size=2)  # 4 filters of size 2x2. One input channel (grayscale)\n",
    "        self.fc = nn.Linear(4 * 2 * 2, 1)  # Flattened 4 channels × 2×2 patch → 1 output\n",
    "\n",
    "    def forward(self, x) -> torch.Tensor:\n",
    "        x = torch.relu(self.conv(x))  # (B, 4, 2, 2)\n",
    "        x = x.view(x.size(0), -1)  # Flatten to (B, 16)\n",
    "        x = torch.sigmoid(self.fc(x))\n",
    "        return x\n",
    "\n",
    "    # This is only done to force intelliSense to recognize the return type as torch.Tensor\n",
    "    def __call__(self, *args: Any, **kwds: Any) -> torch.Tensor:\n",
    "        x = super().__call__(*args, **kwds)\n",
    "        if isinstance(x, torch.Tensor):\n",
    "            return x\n",
    "        raise TypeError(f\"Expected torch.Tensor, got {type(x)}\")"
   ]
  },
  {
   "cell_type": "markdown",
   "id": "606da2b9",
   "metadata": {},
   "source": [
    "### ⚙️ Training"
   ]
  },
  {
   "cell_type": "code",
   "execution_count": null,
   "id": "9d492dee",
   "metadata": {},
   "outputs": [],
   "source": [
    "model = ShapeNet()\n",
    "loss_fn = nn.BCELoss()\n",
    "optimizer = optim.Adam(model.parameters(), lr=0.01)\n",
    "\n",
    "for epoch in range(1000):\n",
    "    y_pred = model(X)\n",
    "    loss = loss_fn(y_pred, y)\n",
    "    optimizer.zero_grad()\n",
    "    loss.backward()\n",
    "    optimizer.step()\n",
    "\n",
    "print(\"Final predictions:\", y_pred.detach().round().squeeze())"
   ]
  },
  {
   "cell_type": "markdown",
   "id": "fd4f7ae5",
   "metadata": {},
   "source": [
    "### 🧪 Create Test Set"
   ]
  },
  {
   "cell_type": "code",
   "execution_count": null,
   "id": "10bf5cc2",
   "metadata": {},
   "outputs": [],
   "source": [
    "# L-shaped (positive class)\n",
    "test_L = [\n",
    "    torch.tensor([[1,0,0],\n",
    "                  [1,0,0],\n",
    "                  [1,1,0]]),  # L\n",
    "    torch.tensor([[0,0,0],\n",
    "                  [0,0,1],\n",
    "                  [1,1,1]]),  # rotated L\n",
    "]\n",
    "\n",
    "# Non-L (negative class)\n",
    "test_non_L = [\n",
    "    torch.tensor([[1,1,0],\n",
    "                  [0,1,1],\n",
    "                  [0,0,0]]),  # diagonal blob\n",
    "    torch.tensor([[1,0,0],\n",
    "                  [1,0,0],\n",
    "                  [1,0,0]]),  # column\n",
    "]\n",
    "\n",
    "# Format test set\n",
    "X_test = torch.stack([x.float() for x in test_L + test_non_L]).unsqueeze(1)  # Add channel dimension (1 for grayscale) -> (B, 1, H, W)\n",
    "y_test = torch.tensor([1]*len(test_L) + [0]*len(test_non_L)).float().unsqueeze(1)"
   ]
  },
  {
   "cell_type": "markdown",
   "id": "dddc1101",
   "metadata": {},
   "source": [
    "### ✅ Test Accuracy"
   ]
  },
  {
   "cell_type": "code",
   "execution_count": null,
   "id": "f0f27923",
   "metadata": {},
   "outputs": [],
   "source": [
    "with torch.no_grad():  # Disable gradient tracking for inference\n",
    "    y_pred = model(X_test)\n",
    "    print(\"Test predictions (raw):\", y_pred.squeeze())\n",
    "    y_pred_labels = (y_pred >= 0.5).float()  # Threshold at 0.5\n",
    "    print(\"Test predictions:\", y_pred_labels.squeeze())\n",
    "    correct = (y_pred_labels == y_test).sum().item()\n",
    "    accuracy = correct / len(y_test)\n",
    "\n",
    "print(f\"Accuracy: {accuracy*100:.2f}%\")\n"
   ]
  },
  {
   "cell_type": "code",
   "execution_count": null,
   "id": "2d7a29a6",
   "metadata": {},
   "outputs": [],
   "source": [
    "import matplotlib.pyplot as plt\n",
    "import seaborn as sns\n",
    "from sklearn.metrics import confusion_matrix\n",
    "\n",
    "# Convert to CPU lists\n",
    "y_true = y_test.cpu().tolist()\n",
    "y_pred = y_pred_labels.cpu().tolist()\n",
    "\n",
    "# Compute matrix\n",
    "cm = confusion_matrix(y_true, y_pred)\n",
    "\n",
    "# Plot\n",
    "plt.figure(figsize=(4, 3))\n",
    "sns.heatmap(cm, annot=True, fmt=\"d\", cmap=\"Blues\", xticklabels=[\"Not L\", \"L\"], yticklabels=[\"Not L\", \"L\"])\n",
    "plt.xlabel(\"Predicted\")\n",
    "plt.ylabel(\"Actual\")\n",
    "plt.title(\"Confusion Matrix\")\n",
    "plt.tight_layout()\n",
    "plt.show()"
   ]
  }
 ],
 "metadata": {
  "kernelspec": {
   "display_name": "ml",
   "language": "python",
   "name": "python3"
  },
  "language_info": {
   "codemirror_mode": {
    "name": "ipython",
    "version": 3
   },
   "file_extension": ".py",
   "mimetype": "text/x-python",
   "name": "python",
   "nbconvert_exporter": "python",
   "pygments_lexer": "ipython3",
   "version": "3.13.4"
  }
 },
 "nbformat": 4,
 "nbformat_minor": 5
}
